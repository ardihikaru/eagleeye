{
 "cells": [
  {
   "cell_type": "code",
   "execution_count": 1,
   "metadata": {},
   "outputs": [],
   "source": [
    "# Program: Dummy EagleEYE Log Generator\n",
    "# Compiled: 06/12/2020\n",
    "# Author: Tim W\n",
    "\n",
    "import pandas as pd\n",
    "import numpy as np\n",
    "from datetime import datetime"
   ]
  },
  {
   "cell_type": "code",
   "execution_count": 3,
   "metadata": {},
   "outputs": [],
   "source": [
    "# Drone Number\n",
    "n_drones = 4\n",
    "\n",
    "# Data points & Workers\n",
    "data_points = 1000\n",
    "n_workers = 6\n",
    "\n",
    "# Latency Settings\n",
    "min_lat = 30.0\n",
    "max_lat = 35.0\n",
    "\n",
    "# Timestamp\n",
    "date_stmp = '06/12/2020'\n",
    "\n",
    "frame_id = np.arange(1, data_points + 1)\n",
    "time_rng = pd.date_range(start=date_stmp, periods=data_points, freq='L')\n",
    "#time_rng"
   ]
  },
  {
   "cell_type": "code",
   "execution_count": 5,
   "metadata": {},
   "outputs": [
    {
     "name": "stdout",
     "output_type": "stream",
     "text": [
      "                         frame_id  drone_id  worker_id  proc_latency_ms\n",
      "datetime                                                               \n",
      "2020-06-12 00:00:00.000         1         1          6        34.034468\n",
      "2020-06-12 00:00:00.001         2         1          2        34.478498\n",
      "2020-06-12 00:00:00.002         3         1          6        30.708752\n",
      "2020-06-12 00:00:00.003         4         1          4        31.795160\n",
      "2020-06-12 00:00:00.004         5         1          1        33.590710\n",
      "...                           ...       ...        ...              ...\n",
      "2020-06-12 00:00:00.995       996         1          2        31.121758\n",
      "2020-06-12 00:00:00.996       997         1          5        33.370129\n",
      "2020-06-12 00:00:00.997       998         1          2        32.003840\n",
      "2020-06-12 00:00:00.998       999         1          4        32.012073\n",
      "2020-06-12 00:00:00.999      1000         1          1        32.795829\n",
      "\n",
      "[1000 rows x 4 columns]\n",
      "                         frame_id  drone_id  worker_id  proc_latency_ms\n",
      "datetime                                                               \n",
      "2020-06-12 00:00:00.000         1         2          6        30.235004\n",
      "2020-06-12 00:00:00.001         2         2          2        31.054025\n",
      "2020-06-12 00:00:00.002         3         2          1        34.843264\n",
      "2020-06-12 00:00:00.003         4         2          4        34.049073\n",
      "2020-06-12 00:00:00.004         5         2          6        33.304992\n",
      "...                           ...       ...        ...              ...\n",
      "2020-06-12 00:00:00.995       996         2          3        31.190933\n",
      "2020-06-12 00:00:00.996       997         2          5        32.203165\n",
      "2020-06-12 00:00:00.997       998         2          6        32.385902\n",
      "2020-06-12 00:00:00.998       999         2          4        32.331552\n",
      "2020-06-12 00:00:00.999      1000         2          2        30.800726\n",
      "\n",
      "[1000 rows x 4 columns]\n",
      "                         frame_id  drone_id  worker_id  proc_latency_ms\n",
      "datetime                                                               \n",
      "2020-06-12 00:00:00.000         1         3          3        31.870730\n",
      "2020-06-12 00:00:00.001         2         3          2        33.439776\n",
      "2020-06-12 00:00:00.002         3         3          3        33.491235\n",
      "2020-06-12 00:00:00.003         4         3          1        34.658761\n",
      "2020-06-12 00:00:00.004         5         3          3        32.162045\n",
      "...                           ...       ...        ...              ...\n",
      "2020-06-12 00:00:00.995       996         3          5        34.333361\n",
      "2020-06-12 00:00:00.996       997         3          5        34.691055\n",
      "2020-06-12 00:00:00.997       998         3          3        30.123830\n",
      "2020-06-12 00:00:00.998       999         3          4        31.951075\n",
      "2020-06-12 00:00:00.999      1000         3          1        33.391282\n",
      "\n",
      "[1000 rows x 4 columns]\n",
      "                         frame_id  drone_id  worker_id  proc_latency_ms\n",
      "datetime                                                               \n",
      "2020-06-12 00:00:00.000         1         4          2        34.547216\n",
      "2020-06-12 00:00:00.001         2         4          2        30.243861\n",
      "2020-06-12 00:00:00.002         3         4          5        30.351125\n",
      "2020-06-12 00:00:00.003         4         4          2        34.041390\n",
      "2020-06-12 00:00:00.004         5         4          4        31.867175\n",
      "...                           ...       ...        ...              ...\n",
      "2020-06-12 00:00:00.995       996         4          1        31.099798\n",
      "2020-06-12 00:00:00.996       997         4          4        31.426960\n",
      "2020-06-12 00:00:00.997       998         4          1        30.740381\n",
      "2020-06-12 00:00:00.998       999         4          5        32.077375\n",
      "2020-06-12 00:00:00.999      1000         4          5        31.427675\n",
      "\n",
      "[1000 rows x 4 columns]\n"
     ]
    }
   ],
   "source": [
    "# Using data frame index\n",
    "df = pd.DataFrame(time_rng, columns=['date'])\n",
    "\n",
    "# Convert to datetime index\n",
    "df['datetime'] = pd.to_datetime(df['date'])\n",
    "df = df.set_index('datetime')\n",
    "df.drop(['date'], axis=1, inplace=True)\n",
    "\n",
    "df['frame_id'] = frame_id\n",
    "\n",
    "for i in range(1, n_drones + 1):\n",
    "    df['drone_id'] = i\n",
    "    df['worker_id'] = np.random.randint(1, n_workers + 1, size=data_points)\n",
    "    df['proc_latency_ms'] = np.random.uniform(min_lat, max_lat, size=data_points)\n",
    "    \n",
    "    filename = 'drone-' + str(i) + '.csv'\n",
    "    df.to_csv(filename, index=True, date_format='%Y-%m-%d %H:%M:%S.%f')\n",
    "    \n",
    "    print(df)"
   ]
  },
  {
   "cell_type": "code",
   "execution_count": null,
   "metadata": {},
   "outputs": [],
   "source": []
  }
 ],
 "metadata": {
  "kernelspec": {
   "display_name": "Python 3",
   "language": "python",
   "name": "python3"
  },
  "language_info": {
   "codemirror_mode": {
    "name": "ipython",
    "version": 3
   },
   "file_extension": ".py",
   "mimetype": "text/x-python",
   "name": "python",
   "nbconvert_exporter": "python",
   "pygments_lexer": "ipython3",
   "version": "3.8.3"
  }
 },
 "nbformat": 4,
 "nbformat_minor": 4
}
