{
 "cells": [
  {
   "cell_type": "code",
   "execution_count": 3,
   "metadata": {
    "collapsed": true
   },
   "outputs": [
    {
     "name": "stdout",
     "output_type": "stream",
     "text": [
      "-- disini\n"
     ]
    },
    {
     "data": {
      "text/plain": "<pyecharts.charts.basic_charts.bar.Bar at 0x7f7d1de6ad30>"
     },
     "execution_count": 3,
     "metadata": {},
     "output_type": "execute_result"
    }
   ],
   "source": [
    "from pyecharts.charts import Bar\n",
    "from pyecharts import options as opts\n",
    "from pyecharts.globals import ThemeType\n",
    "\n",
    "print(\"-- disini\")\n",
    "\n",
    "bar = (\n",
    " Bar(init_opts=opts.InitOpts(theme=ThemeType.PURPLE_PASSION))\n",
    " .add_xaxis([\"JAN\",\"FEB\",\"MAR\",\"APR\",\"MAY\",\"JUN\",\"JUL\",\"AUG\",\"SEP\",\"OCT\",\"NOV\",\"DEC\"])\n",
    " .add_yaxis(\"Temperature Max\", [-7,-6,-2,4,10,15,18,17,13,7,2,-3])\n",
    " .add_yaxis(\"Temperature Min\", [-1,0,5,12,18,24,27,26,21,14,8,2])\n",
    " .set_global_opts(title_opts=opts.TitleOpts(title=\"30-year temperature for Toronto\", subtitle=\"Year 1981 to 2010\"))\n",
    ")\n",
    "bar.render_notebook()\n",
    "\n",
    "# bar"
   ]
  }
 ],
 "metadata": {
  "kernelspec": {
   "display_name": "Python 3",
   "language": "python",
   "name": "python3"
  },
  "language_info": {
   "codemirror_mode": {
    "name": "ipython",
    "version": 2
   },
   "file_extension": ".py",
   "mimetype": "text/x-python",
   "name": "python",
   "nbconvert_exporter": "python",
   "pygments_lexer": "ipython2",
   "version": "2.7.6"
  }
 },
 "nbformat": 4,
 "nbformat_minor": 0
}